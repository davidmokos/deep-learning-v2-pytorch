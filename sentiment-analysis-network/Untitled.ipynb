{
 "cells": [
  {
   "cell_type": "code",
   "execution_count": 2,
   "metadata": {},
   "outputs": [],
   "source": [
    "import re\n",
    "import os\n",
    "import html"
   ]
  },
  {
   "cell_type": "code",
   "execution_count": 29,
   "metadata": {},
   "outputs": [],
   "source": [
    "def check_file(filepath):\n",
    "    folder = os.path.dirname(filepath)\n",
    "    mis = True\n",
    "    \n",
    "    with open(filepath, \"r\") as f:\n",
    "        for l in f.readlines():\n",
    "            href_search = re.search(r'(src|href) ?= ?\"(.*?)\"', l, re.IGNORECASE)\n",
    "            if href_search:\n",
    "                fp = os.path.join(folder, href_search.group(2))\n",
    "                fp = html.unescape(fp)\n",
    "                if not os.path.exists(fp) \\\n",
    "                and not href_search.group(2).startswith(\"http\") \\\n",
    "                and not href_search.group(2).startswith(\"#\") \\\n",
    "                and not href_search.group(2).startswith(\"mailto\"):\n",
    "                    mis = False\n",
    "#                     print(l)\n",
    "                    print(\"missing\", fp)\n",
    "    return mis"
   ]
  },
  {
   "cell_type": "code",
   "execution_count": 25,
   "metadata": {},
   "outputs": [
    {
     "data": {
      "text/plain": [
       "True"
      ]
     },
     "execution_count": 25,
     "metadata": {},
     "output_type": "execute_result"
    }
   ],
   "source": [
    "check_file(\"/Users/mokos/Learn/iOS Developer Nanodegree v1.0.0/index.html\")"
   ]
  },
  {
   "cell_type": "code",
   "execution_count": 26,
   "metadata": {},
   "outputs": [
    {
     "data": {
      "text/plain": [
       "True"
      ]
     },
     "execution_count": 26,
     "metadata": {},
     "output_type": "execute_result"
    }
   ],
   "source": [
    "check_file(\"/Users/mokos/Learn/iOS Developer Nanodegree v1.0.0/Part 15-Module 01-Lesson 02_Firebase in a Weekend Sunday/10. Not Your Parents' Permissions.html\")"
   ]
  },
  {
   "cell_type": "code",
   "execution_count": 27,
   "metadata": {},
   "outputs": [
    {
     "data": {
      "text/plain": [
       "True"
      ]
     },
     "execution_count": 27,
     "metadata": {},
     "output_type": "execute_result"
    }
   ],
   "source": [
    "check_file(\"/Users/mokos/Learn/iOS Developer Nanodegree v1.0.0/Part 03-Module 01-Lesson 05_Playback and Audio Effects/03. Inserting StackViews.html\")"
   ]
  },
  {
   "cell_type": "code",
   "execution_count": 30,
   "metadata": {
    "scrolled": true
   },
   "outputs": [
    {
     "name": "stdout",
     "output_type": "stream",
     "text": [
      "missing /Users/mokos/Learn/iOS Developer Nanodegree v1.0.0/Part 04-Module 01-Lesson 04_Add Commits To A Repo/css/app.css\n",
      "missing /Users/mokos/Learn/iOS Developer Nanodegree v1.0.0/Part 04-Module 01-Lesson 04_Add Commits To A Repo/js/app.js\n",
      "in file /Users/mokos/Learn/iOS Developer Nanodegree v1.0.0/Part 04-Module 01-Lesson 04_Add Commits To A Repo/02. Git Add.html\n",
      "missing /Users/mokos/Learn/iOS Developer Nanodegree v1.0.0/Part 04-Module 01-Lesson 05_Tagging, Branching, and Merging/css/app.css\n",
      "missing /Users/mokos/Learn/iOS Developer Nanodegree v1.0.0/Part 04-Module 01-Lesson 05_Tagging, Branching, and Merging/js/app.js\n",
      "missing /Users/mokos/Learn/iOS Developer Nanodegree v1.0.0/Part 04-Module 01-Lesson 05_Tagging, Branching, and Merging/img/social-twitter.png\n",
      "missing /Users/mokos/Learn/iOS Developer Nanodegree v1.0.0/Part 04-Module 01-Lesson 05_Tagging, Branching, and Merging/img/social-instagram.png\n",
      "missing /Users/mokos/Learn/iOS Developer Nanodegree v1.0.0/Part 04-Module 01-Lesson 05_Tagging, Branching, and Merging/img/social-google.png\n",
      "in file /Users/mokos/Learn/iOS Developer Nanodegree v1.0.0/Part 04-Module 01-Lesson 05_Tagging, Branching, and Merging/04. Branching Effectively.html\n",
      "missing /Users/mokos/Learn/iOS Developer Nanodegree v1.0.0/Part 05-Module 01-Lesson 01_Working With Remotes/css/app.css\n",
      "in file /Users/mokos/Learn/iOS Developer Nanodegree v1.0.0/Part 05-Module 01-Lesson 01_Working With Remotes/03. Add A Remote Repository.html\n",
      "missing /Users/mokos/Learn/iOS Developer Nanodegree v1.0.0/Part 16-Module 01-Lesson 03_Implementing In-App Analytics/firebase.google.com\n",
      "in file /Users/mokos/Learn/iOS Developer Nanodegree v1.0.0/Part 16-Module 01-Lesson 03_Implementing In-App Analytics/03. Setting Up Green Thumb.html\n"
     ]
    }
   ],
   "source": [
    "for dirpath, dirnames, filenames in os.walk(\"/Users/mokos/Learn/iOS Developer Nanodegree v1.0.0/\"):\n",
    "    for filename in [f for f in filenames if f.endswith(\".html\")]:\n",
    "        filee = os.path.join(dirpath, filename)       \n",
    "        if not check_file(filee):\n",
    "            print(\"in file\", filee)"
   ]
  },
  {
   "cell_type": "code",
   "execution_count": null,
   "metadata": {},
   "outputs": [],
   "source": []
  }
 ],
 "metadata": {
  "kernelspec": {
   "display_name": "Python 3",
   "language": "python",
   "name": "python3"
  },
  "language_info": {
   "codemirror_mode": {
    "name": "ipython",
    "version": 3
   },
   "file_extension": ".py",
   "mimetype": "text/x-python",
   "name": "python",
   "nbconvert_exporter": "python",
   "pygments_lexer": "ipython3",
   "version": "3.7.4"
  }
 },
 "nbformat": 4,
 "nbformat_minor": 4
}
